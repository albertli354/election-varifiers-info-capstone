{
 "cells": [
  {
   "cell_type": "code",
   "execution_count": 1,
   "metadata": {},
   "outputs": [],
   "source": [
    "import json\n",
    "from tqdm.auto import tqdm\n",
    "with open('./data/election_results.json') as json_file:\n",
    "    data = json.load(json_file)"
   ]
  },
  {
   "cell_type": "markdown",
   "metadata": {},
   "source": [
    "# GreenBox 1 - Parameters\n",
    "\n",
    "- p: the big prime under paramter, prime\n",
    "- q: the given small prime q, the largest 256-bit prime"
   ]
  },
  {
   "cell_type": "code",
   "execution_count": 2,
   "metadata": {},
   "outputs": [
    {
     "name": "stdout",
     "output_type": "stream",
     "text": [
      "Valid number of trustees\n",
      "Valid threshold \n",
      "Valid threshold and number of trustees\n",
      "Valid generator\n"
     ]
    }
   ],
   "source": [
    "p = int(data[\"parameters\"][\"prime\"]) #big prime p\n",
    "q = (2**256)-189 #small prime q\n",
    "r = 9019518416950528558373478086511232658951474842525520401496114928154304263969688620325252581860530315530388761452281877712231196058806031646907074277559473370572297540090428604411602693018377070889546964787739496022322950246312517502699463986951192313975731521354681322947788878024550616890271988181289436086993123844124081826919833872184902652628063144078714079634244146642499700831665412680547204745934123940354574013503597950343602132101017089380082841610400137824792383077494392552044526510629139497792899833045857689366071581441769949805150724536792169821049103573064478783799952470453824637099933325988702382591194694337062301961007784297524221505356007621628132437524841706671129031056637581480237864162587429181933054088169073871110373443662213261337856657295772697400789521898621292161426497918187680808577989308766609911108416501173578438902509841873262595682619326525580137302833521960231773265393262120677845658554762369159070434710606084145406469502947514163751046724516397063925584394050022770432995620280564512311142925214983072493529411787312820806325450291929554891757330726374483722453382212296718904393252553130440130518143907350270439056\n",
    "g = pow(2, r, p) #generator g\n",
    "\n",
    "# check the range of number of trustees\n",
    "num_trustees = int(data[\"parameters\"][\"num_trustees\"])\n",
    "if (num_trustees <= 0):\n",
    "    print(\"number of trustees must be nonzero: \", num_trustees)\n",
    "else:\n",
    "  print(\"Valid number of trustees\")\n",
    "\n",
    "# check the range of threshold of trustees\n",
    "threshold = int(data[\"parameters\"][\"threshold\"])\n",
    "if (threshold <= 0):\n",
    "    print(\"threshold must be nonzero: \", threshold)\n",
    "else:\n",
    "  print(\"Valid threshold \")\n",
    "\n",
    "\n",
    "# check threshold and trustees\n",
    "threshold = int(data[\"parameters\"][\"threshold\"])\n",
    "if (threshold > num_trustees):\n",
    "    print(\"threshold must not exceed number of trustees: \", threshold, \">\", num_trustees)\n",
    "else:\n",
    "  print(\"Valid threshold and number of trustees\")    \n",
    "\n",
    "\n",
    "# check if generator g is correct\n",
    "generator = int(data[\"parameters\"][\"generator\"])\n",
    "if (generator != g):\n",
    "  print(\"invalid generator\")\n",
    "else:\n",
    "  print(\"Valid generator\")"
   ]
  },
  {
   "cell_type": "markdown",
   "metadata": {},
   "source": [
    "# GreenBox 2 - Correct Key Generation"
   ]
  },
  {
   "cell_type": "markdown",
   "metadata": {},
   "source": [
    "Features Not Included: <br>\n",
    "- 1st Bullet Point: Hashing"
   ]
  },
  {
   "cell_type": "markdown",
   "metadata": {},
   "source": [
    "### 1st Bullet Point - INCOMPLETE"
   ]
  },
  {
   "cell_type": "markdown",
   "metadata": {},
   "source": [
    "Below is what we have tried:"
   ]
  },
  {
   "cell_type": "code",
   "execution_count": 5,
   "metadata": {},
   "outputs": [],
   "source": [
    "# Hash computuation pg.10\n",
    "# import hashlib\n",
    "# import json\n",
    "# PK = str.encode(data['trustee_public_keys'][0][0]['public_key'])\n",
    "# base = str.encode(data['extended_base_hash'])\n",
    "# commit = str.encode(data['trustee_public_keys'][0][0]['proof']['commitment'])\n",
    "# challenge = data['trustee_public_keys'][0][0]['proof']['challenge']\n",
    "# print(\"base\", base)\n",
    "# print(\"PK\", PK)\n",
    "# print(\"Commitment\", commit)\n",
    "\n",
    "# m = hashlib.sha256()\n",
    "# m.update(base)\n",
    "# m.update(PK)\n",
    "# m.update(commit)"
   ]
  },
  {
   "cell_type": "markdown",
   "metadata": {},
   "source": [
    "### 2nd Bullet Point - <em>\"g<sup>u<sub>i,j</sub></sup> mod p=h<sub>i,j</sub>K<sub>i,j</sub><sup>c<sub>i</sub></sup> mod p\"\n",
    "    \n",
    "- key: trustee_public_keys, public_key\n",
    "- response: trustee_public_keys, proff, response\n",
    "- ch: trustee_public_keys, proof, challenge\n",
    "- commitment: trustee_public_keys, proof, commitment"
   ]
  },
  {
   "cell_type": "code",
   "execution_count": 13,
   "metadata": {},
   "outputs": [
    {
     "name": "stdout",
     "output_type": "stream",
     "text": [
      "success\n"
     ]
    }
   ],
   "source": [
    "error = False\n",
    "keys = data['trustee_public_keys']\n",
    "for i in range(num_trustees):\n",
    "    for j in range(len(keys[i])):\n",
    "        key = int(keys[i][j]['public_key'])\n",
    "        response = int(keys[i][j]['proof']['response'])\n",
    "        ch = int(keys[i][j]['proof']['challenge'])\n",
    "        commitment = int(keys[i][j]['proof']['commitment'])\n",
    "        if pow(g, response, p) != commitment * pow(key,ch,p) % p:\n",
    "            print(\"problem with trustee key generation proof: trustee_public_keys at\", \"[\", i, \"][\", j, \"] public key =\", key)\n",
    "            error = True\n",
    "if not error:\n",
    "    print(\"success\")"
   ]
  },
  {
   "cell_type": "markdown",
   "metadata": {},
   "source": [
    "# GreenBox 3 - Selection Correctness"
   ]
  },
  {
   "cell_type": "markdown",
   "metadata": {},
   "source": [
    "Not Included Features:\n",
    "- 2nd bullet point: hashing\n",
    "- 4th bullet point: closely related to 2nd and again, due to hashing problems it is not complete"
   ]
  },
  {
   "cell_type": "markdown",
   "metadata": {},
   "source": [
    "### 1st Bullet Point - <em>\"The given values alpha, beta, a0, b0, a1, and b1 are all in the set Z<sub>p</sub><sup>r</sup>. (A value x is in Z<sub>p</sub><sup>r</sup> if and only if x is an integer such that 0≤x<p and xq mod p=1 is satisfied.)\"\n",
    "    \n",
    "- alpha: cast ballots, contests, selection, message, public_key\n",
    "- beta: cast ballots, contests, selection, message, ciphertext\n",
    "- a<sub>0</sub>: cast ballots, contests, selection, zero_proof, commitment, public_key\n",
    "- a<sub>1</sub>: cast ballots, contests, selection, one_proof, commitment, public_key\n",
    "- b<sub>0</sub>: cast ballots, contests, selection, zero_proof, commitment, ciphertext\n",
    "- b<sub>1</sub>: cast ballots, contests, selection, one_proof, commitment, ciphertext"
   ]
  },
  {
   "cell_type": "markdown",
   "metadata": {},
   "source": [
    "- For the sake of run time, we have reduced n"
   ]
  },
  {
   "cell_type": "code",
   "execution_count": 7,
   "metadata": {},
   "outputs": [
    {
     "data": {
      "application/vnd.jupyter.widget-view+json": {
       "model_id": "62ef645ec4874795b0f6bfcfbd39158a",
       "version_major": 2,
       "version_minor": 0
      },
      "text/plain": [
       "HBox(children=(IntProgress(value=0, description='cast ballots', max=199, style=ProgressStyle(description_width…"
      ]
     },
     "metadata": {},
     "output_type": "display_data"
    },
    {
     "name": "stdout",
     "output_type": "stream",
     "text": [
      "success\n"
     ]
    }
   ],
   "source": [
    "error = False\n",
    "cast_ballots = data['cast_ballots']   \n",
    "for i in tqdm(range(len(cast_ballots) // 2), desc=\"cast ballots\"):\n",
    "    b = cast_ballots[i]\n",
    "    for j in range(len(b['contests']) // 2):\n",
    "        contest = b['contests'][j]\n",
    "        for k in range(len(contest['selections']) // 2):\n",
    "            alpha = int(contest['selections'][k]['message']['public_key'])\n",
    "            beta = int(contest['selections'][k]['message']['ciphertext'])\n",
    "            a0 = int(contest['selections'][k]['zero_proof']['commitment']['public_key'])\n",
    "            b0 = int(contest['selections'][k]['zero_proof']['commitment']['ciphertext'])\n",
    "            a1 = int(contest['selections'][k]['one_proof']['commitment']['public_key'])\n",
    "            b1 = int(contest['selections'][k]['one_proof']['commitment']['ciphertext'])\n",
    "            alpha_1 = pow(alpha, q, p)\n",
    "            beta_1 = pow(beta, q, p)\n",
    "            a0_1 = pow(a0, q, p)\n",
    "            b0_1 = pow(b0, q, p)\n",
    "            a1_1 = pow(a1, q, p)\n",
    "            b1_1 = pow(b1, q, p)\n",
    "            if alpha < 0 or alpha >= p:\n",
    "                print(f\"alpha is out of range [{i}, {j}, {k}], alpha: {alpha}\")\n",
    "                error = True\n",
    "            if beta < 0 or beta >= p:\n",
    "                print(f\"beta is out of range [{i}, {j}, {k}], beta: {beta}\")\n",
    "                error = True\n",
    "            if a0 < 0 or a0 >= p:\n",
    "                print(f\"a0 is out of range [{i}, {j}, {k}], a0: {a0}\")\n",
    "                error = True\n",
    "            if b0 < 0 or b0 >= p:\n",
    "                print(f\"b0 is out of range [{i}, {j}, {k}], b0: {b0}\")\n",
    "                error = True\n",
    "            if a1 < 0 or a1 >= p:\n",
    "                print(f\"a1 is out of range [{i}, {j}, {k}], a1: {a1}\")\n",
    "                error = True\n",
    "            if b1 < 0 or b1 >= p:\n",
    "                print(f\"b1 is out of range [{i}, {j}, {k}], b1: {b1}\")\n",
    "                error =True\n",
    "            if alpha_1 != 1:\n",
    "                print(f\"alpha^q mod p does not equal to 1: [{i}, {j}, {k}], alpha: {alpha}\")\n",
    "                error = True\n",
    "            if beta_1 != 1:\n",
    "                print(f\"beta^q mod p does not equal to 1: [{i}, {j}, {k}], beta: {beta}\")\n",
    "                error = True\n",
    "            if a0_1 != 1:\n",
    "                print(f\"a0^q mod p does not equal to 1: [{i}, {j}, {k}], a0: {a0}\")\n",
    "                error = True\n",
    "            if b0_1 != 1:\n",
    "                print(f\"b0^q mod p does not equal to 1: [{i}, {j}, {k}], b0: {b0}\")\n",
    "                error = True\n",
    "            if a1_1 != 1:\n",
    "                print(f\"a1^q mod p does not equal to 1: [{i}, {j}, {k}], a1: {a1}\")\n",
    "                error = True\n",
    "            if b1_1 != 1:\n",
    "                print(f\"b1^q mod p does not equal to 1: [{i}, {j}, {k}], b1: {b1}\")\n",
    "                error = True\n",
    "\n",
    "            \n",
    "\n",
    "if not error:\n",
    "    print(\"success\")                "
   ]
  },
  {
   "cell_type": "markdown",
   "metadata": {},
   "source": [
    "### 3rd Bullet Point - <em>\"The given values c0, c1, v0, and v1 are each in the set Z<sub>q</sub>.  (A value x is in Z<sub>q</sub> if and only if x is an integer such that 0≤x<q.)\"\n",
    "\n",
    "- c<sub>0</sub>: cast ballots, contests, selections, zero proof, challenge\n",
    "- c<sub>1</sub>: cast ballots, contests, selections, one proof, challenge\n",
    "- v<sub>0</sub>: cast ballots, contests, selections, zero proof, response\n",
    "- v<sub>1</sub>: cast ballots, contests, selections, one proof, response\n"
   ]
  },
  {
   "cell_type": "code",
   "execution_count": 8,
   "metadata": {},
   "outputs": [
    {
     "data": {
      "application/vnd.jupyter.widget-view+json": {
       "model_id": "e94c19860df6424e951ea340f4ca0f19",
       "version_major": 2,
       "version_minor": 0
      },
      "text/plain": [
       "HBox(children=(IntProgress(value=0, description='cast ballots', max=398, style=ProgressStyle(description_width…"
      ]
     },
     "metadata": {},
     "output_type": "display_data"
    },
    {
     "name": "stdout",
     "output_type": "stream",
     "text": [
      "success\n"
     ]
    }
   ],
   "source": [
    "error = False\n",
    "cast_ballots = data['cast_ballots']   \n",
    "for i in tqdm(range(len(cast_ballots)), desc=\"cast ballots\"):\n",
    "    b = cast_ballots[i]\n",
    "    for j in range(len(b['contests'])):\n",
    "        contest = b['contests'][j]\n",
    "        for k in range(len(contest['selections'])):\n",
    "            c0 = int(contest['selections'][k]['zero_proof']['challenge'])\n",
    "            c1 = int(contest['selections'][k]['one_proof']['challenge'])\n",
    "            v0 = int(contest['selections'][k]['zero_proof']['response'])\n",
    "            v1 = int(contest['selections'][k]['one_proof']['response'])\n",
    "            if c0 < 0 or c0 >= q:\n",
    "                print(f\"c0 is out of range [{i}, {j}, {k}], c0: {c0}\")\n",
    "                error = True\n",
    "            if c1 < 0 or c1 >= q:\n",
    "                print(f\"c1 is out of range [{i}, {j}, {k}], c1: {c1}\")\n",
    "                error = True\n",
    "            if v0 < 0 or v0 >= q:\n",
    "                print(f\"v0 is out of range [{i}, {j}, {k}], v0: {v0}\")\n",
    "                error = True\n",
    "            if v1 < 0 or v1 >= q:\n",
    "                print(f\"v1 is out of range [{i}, {j}, {k}], v1: {v1}\")\n",
    "                error = True\n",
    "\n",
    "if not error:\n",
    "    print(\"success\")   "
   ]
  },
  {
   "cell_type": "markdown",
   "metadata": {},
   "source": [
    "### (INCOMPLETE) 4th Bullet Point - <em>\"The equation c=c<sub>0</sub>+c<sub>1</sub> mod q is satisfied.\"</em> "
   ]
  },
  {
   "cell_type": "markdown",
   "metadata": {},
   "source": [
    "- below is what we have tried: "
   ]
  },
  {
   "cell_type": "code",
   "execution_count": 56,
   "metadata": {},
   "outputs": [],
   "source": [
    "# cast_ballots = data['cast_ballots']   \n",
    "# for i in range(len(cast_ballots)):\n",
    "#     b = cast_ballots[i]\n",
    "#     for j in range(len(b['contests'])):\n",
    "#         contest = b['contests'][j]\n",
    "#         for k in range(len(contest['selections'])):\n",
    "#             c0 = int(contest['selections'][k]['zero_proof']['challenge'])\n",
    "#             c1 = int(contest['selections'][k]['one_proof']['challenge'])\n",
    "#             c = (c0 + c1) % q"
   ]
  },
  {
   "cell_type": "markdown",
   "metadata": {},
   "source": [
    "### 5th Bullet Point - <em>\"the equations g<sup>v<sub>0</sub></sup>=a<sub>0</sub>alpha<sup>c<sub>0</sub></sup> mod p, g<sup>v<sub>1</sub></sup>=a<sub>1</sub>alpha<sup>c<sub>1</sub></sup> mod p, K<sup>v<sub>0</sub></sup>=b<sub>0</sub>beta<sup>c</sup><sub>0</sub> mod p, and g<sup>c<sub>1</sub></sup>K<sup>v<sub>1</sub></sup>=b<sub>1</sub>beta<sup>c<sub>1</sub></sup> mod p are all satisfied\"\n"
   ]
  },
  {
   "cell_type": "markdown",
   "metadata": {},
   "source": [
    "- We swapped K and alpha for this data. It's NOT consistent with spec.\n",
    "- Also reduced n to improve run time"
   ]
  },
  {
   "cell_type": "code",
   "execution_count": 9,
   "metadata": {},
   "outputs": [
    {
     "data": {
      "application/vnd.jupyter.widget-view+json": {
       "model_id": "f1c22ae96d0246b697c678f19c571445",
       "version_major": 2,
       "version_minor": 0
      },
      "text/plain": [
       "HBox(children=(IntProgress(value=0, description='cast ballots', max=199, style=ProgressStyle(description_width…"
      ]
     },
     "metadata": {},
     "output_type": "display_data"
    },
    {
     "name": "stdout",
     "output_type": "stream",
     "text": [
      "success\n"
     ]
    }
   ],
   "source": [
    "error = False\n",
    "cast_ballots = data['cast_ballots']\n",
    "K = int(data['joint_public_key'])\n",
    "for i in tqdm(range(len(cast_ballots) // 2), desc=\"cast ballots\"):\n",
    "    b = cast_ballots[i]\n",
    "    for j in range(len(b['contests']) // 2):\n",
    "        contest = b['contests'][j]\n",
    "        for k in range(len(contest['selections']) // 2):\n",
    "            v0 = int(contest['selections'][k]['zero_proof']['response'])\n",
    "            v1 = int(contest['selections'][k]['one_proof']['response'])\n",
    "            a0 = int(contest['selections'][k]['zero_proof']['commitment']['public_key'])\n",
    "            a1 = int(contest['selections'][k]['one_proof']['commitment']['public_key'])\n",
    "            alpha = int(contest['selections'][k]['message']['public_key'])\n",
    "            beta = int(contest['selections'][k]['message']['ciphertext'])\n",
    "            c0 = int(contest['selections'][k]['zero_proof']['challenge'])\n",
    "            c1 = int(contest['selections'][k]['one_proof']['challenge'])\n",
    "            b0 = int(contest['selections'][k]['zero_proof']['commitment']['ciphertext'])\n",
    "            b1 = int(contest['selections'][k]['one_proof']['commitment']['ciphertext'])\n",
    "            \n",
    "#           1st equation\n",
    "            g_v0_left_side = pow(g, v0, p)\n",
    "            g_v0_right_side = (a0 * pow(K, c0, p)) % p\n",
    "        \n",
    "#           2nd equation\n",
    "            g_v1_left_side = pow(g, v1, p)\n",
    "            g_v1_right_side = (a1 * pow(K, c1, p)) % p\n",
    "\n",
    "#           3rd equation\n",
    "            K_v0_left_side = pow(alpha, v0, p)\n",
    "            K_v0_right_side = (b0 * pow(beta, c0, p)) % p\n",
    "        \n",
    "#           4th \n",
    "            fourth_left_side = (pow(g, c1, p) * pow(alpha, v1, p) % p)\n",
    "            fourth_right_side = (b1 * pow(beta, c1, p)) % p\n",
    "\n",
    "#           checking\n",
    "            if g_v0_left_side != g_v0_right_side:\n",
    "                print(f\"g_vo != a_0*alpha^c_0 at cast_ballots {i}, contest {j}, selection {k}\")\n",
    "                error = True\n",
    "            if g_v1_left_side != g_v1_right_side:\n",
    "                print(f\"g_v1 != a_1*alpha^c_1\")\n",
    "                error = True\n",
    "            if K_v0_left_side != K_v0_right_side:\n",
    "                print(f\"K_v0 != b_0*alpha^c_0\")\n",
    "                error = True\n",
    "            if fourth_left_side != fourth_right_side:\n",
    "                print(f\"g_c1 * K_v1 != (b1 * beta^c1) % p\")\n",
    "                error = True\n",
    "if not error:\n",
    "    print(\"success\")   "
   ]
  },
  {
   "cell_type": "markdown",
   "metadata": {},
   "source": [
    "# GreenBox 4 Selection Limit Proof"
   ]
  },
  {
   "cell_type": "markdown",
   "metadata": {},
   "source": [
    "Features not included: <br>\n",
    "- 1st bullet point: our pilot data wasn't applicable<br>\n",
    "- 2nd bullet point: issues when conducting row product - absence of A and B in data <br>\n",
    "- 5th bullet point: hashing <br>\n",
    "- 6th bullet point, part 2: absence of A in data"
   ]
  },
  {
   "cell_type": "markdown",
   "metadata": {},
   "source": [
    "### 3rd bullet point - <em>\"The given value V is in Z<sub>q</sub>\""
   ]
  },
  {
   "cell_type": "code",
   "execution_count": 20,
   "metadata": {},
   "outputs": [
    {
     "name": "stdout",
     "output_type": "stream",
     "text": [
      "success\n"
     ]
    }
   ],
   "source": [
    "error = False\n",
    "cast_ballots = data['cast_ballots']\n",
    "for i in range(len(cast_ballots)):\n",
    "    ballot = cast_ballots[i]\n",
    "    for j in range(len(ballot['contests'])):\n",
    "        num_selections_proof = ballot['contests'][j]['num_selections_proof']\n",
    "        response = int(num_selections_proof['response'])\n",
    "        if response < 0 or response >= q:\n",
    "            print(f\"V is not in Z_qv at cast_ballot {i} and contest {j}\")\n",
    "            error = True\n",
    "if not error:\n",
    "    print(\"success\")   "
   ]
  },
  {
   "cell_type": "markdown",
   "metadata": {},
   "source": [
    "### 4th bullet point - <em>\"The given values a and b are each in Z<sub>p</sub><sup>r</sup>\"\n",
    "    \n",
    "- a: cast ballots, contests, num_selections_proof, commitment, public key\n",
    "- b: cast ballots, contests, num_selections_proof, commitment, ciphertext"
   ]
  },
  {
   "cell_type": "code",
   "execution_count": 10,
   "metadata": {},
   "outputs": [
    {
     "data": {
      "application/vnd.jupyter.widget-view+json": {
       "model_id": "03641e9d47e340ee958b9c515d440bed",
       "version_major": 2,
       "version_minor": 0
      },
      "text/plain": [
       "HBox(children=(IntProgress(value=0, description='cast ballots', max=398, style=ProgressStyle(description_width…"
      ]
     },
     "metadata": {},
     "output_type": "display_data"
    },
    {
     "name": "stdout",
     "output_type": "stream",
     "text": [
      "success\n"
     ]
    }
   ],
   "source": [
    "error = False\n",
    "cast_ballots = data['cast_ballots']\n",
    "for i in tqdm(range(len(cast_ballots)), desc=\"cast ballots\"):\n",
    "    ballot = cast_ballots[i]\n",
    "    for j in range(len(ballot['contests'])):\n",
    "        num_selections_proof = ballot['contests'][j]['num_selections_proof']\n",
    "        a = int(num_selections_proof['commitment']['public_key'])\n",
    "        b = int(num_selections_proof['commitment']['ciphertext'])\n",
    "        if pow(a, q, p) != 1:\n",
    "            print(f'a is not in Z^r_p at cast_ballot {i} and contest {j}')\n",
    "            error = True\n",
    "        if pow(b, q, p) != 1:\n",
    "            print(f'b is not in Z^r_p at cast_ballot {i} and contest {j}')\n",
    "            error = True\n",
    "if not error:\n",
    "    print(\"success\")   "
   ]
  },
  {
   "cell_type": "markdown",
   "metadata": {},
   "source": [
    "### 6th Bullet Point pt 1 - <em>\"g<sup>V</sup>=aA<sup>C</sup> mod p\""
   ]
  },
  {
   "cell_type": "markdown",
   "metadata": {},
   "source": [
    "- v: cast ballots, contests, num_selections_proof, response\n",
    "- a: cast ballots, contests, num_selections_proof, commitment public key\n",
    "- c: cast ballots, contests, num_selections_proof, challenge\n",
    "- in our pilot data, A and K are swapped"
   ]
  },
  {
   "cell_type": "code",
   "execution_count": 26,
   "metadata": {},
   "outputs": [
    {
     "name": "stdout",
     "output_type": "stream",
     "text": [
      "success\n"
     ]
    }
   ],
   "source": [
    "error = False\n",
    "cast_ballots = data['cast_ballots']\n",
    "K = int(data['joint_public_key'])\n",
    "for i in range(len(cast_ballots)):\n",
    "    ballot = cast_ballots[i]\n",
    "    for j in range(len(ballot['contests'])):\n",
    "        num_selections_proof = ballot['contests'][j]['num_selections_proof']\n",
    "        v = int(num_selections_proof['response'])\n",
    "        a = int(num_selections_proof['commitment']['public_key'])\n",
    "        c = int(num_selections_proof['challenge'])\n",
    "        left_side = pow(g, v, p)\n",
    "        right_side = (a * pow(K, c, p)) % p\n",
    "        if (left_side != right_side):\n",
    "            print(f\"g^v != a*K^ at cast_ballots {i} and contest {j}\")\n",
    "            error = True\n",
    "if not error:\n",
    "    print(\"success\")  "
   ]
  },
  {
   "cell_type": "markdown",
   "metadata": {},
   "source": [
    "# GreenBox 5 - Hashing"
   ]
  },
  {
   "cell_type": "markdown",
   "metadata": {},
   "source": [
    "- Hashing (Not Included)"
   ]
  },
  {
   "cell_type": "markdown",
   "metadata": {},
   "source": [
    "# GreenBox 6 - Verifiable Decryption"
   ]
  },
  {
   "cell_type": "markdown",
   "metadata": {},
   "source": [
    "Features Not Included:<br>\n",
    "- 3rd bullet point: hashing"
   ]
  },
  {
   "cell_type": "markdown",
   "metadata": {},
   "source": [
    "### Column Product of Alpha"
   ]
  },
  {
   "cell_type": "code",
   "execution_count": 27,
   "metadata": {},
   "outputs": [
    {
     "name": "stdout",
     "output_type": "stream",
     "text": [
      "success\n"
     ]
    }
   ],
   "source": [
    "error = False\n",
    "for i in range(len(data['contest_tallies'])):\n",
    "    contest = data['contest_tallies'][i]\n",
    "    for j in range(len(contest)):\n",
    "        total_tally = int(contest[j]['encrypted_tally']['public_key'])\n",
    "        product_A = 1\n",
    "        for k in range(len(data['cast_ballots'])):\n",
    "            cast_ballots = data['cast_ballots']\n",
    "            contests = cast_ballots[k]['contests']\n",
    "            product_A *=int(contests[i]['selections'][j]['message']['public_key'])\n",
    "        if total_tally != (product_A % p):\n",
    "            print(f\"Product of alphas and A don't match with contest {i} and selection {j}\")\n",
    "            error = True\n",
    "if not error:\n",
    "    print(\"success\")"
   ]
  },
  {
   "cell_type": "markdown",
   "metadata": {},
   "source": [
    "### Column Product of Beta"
   ]
  },
  {
   "cell_type": "code",
   "execution_count": 28,
   "metadata": {},
   "outputs": [
    {
     "name": "stdout",
     "output_type": "stream",
     "text": [
      "success\n"
     ]
    }
   ],
   "source": [
    "error = False\n",
    "for i in range(len(data['contest_tallies'])):\n",
    "    contest = data['contest_tallies'][i]\n",
    "    for j in range(len(contest)):\n",
    "        total_tally = int(contest[j]['encrypted_tally']['ciphertext'])\n",
    "        product_B = 1\n",
    "        for k in range(len(data['cast_ballots'])):\n",
    "            cast_ballots = data['cast_ballots']\n",
    "            contests = cast_ballots[k]['contests']\n",
    "            product_B *=int(contests[i]['selections'][j]['message']['ciphertext'])\n",
    "        if total_tally != (product_B % p):\n",
    "            print(f\"Product of betas and B don't match with contest {i} and selection {j}\")\n",
    "            error = True\n",
    "if not error:\n",
    "    print(\"success\")"
   ]
  },
  {
   "cell_type": "markdown",
   "metadata": {},
   "source": [
    "### 1st Bullet Point - <em>\"The given value v<sub>i</sub> is in the set Z<sub>q</sub>\""
   ]
  },
  {
   "cell_type": "code",
   "execution_count": 29,
   "metadata": {},
   "outputs": [
    {
     "name": "stdout",
     "output_type": "stream",
     "text": [
      "success\n"
     ]
    }
   ],
   "source": [
    "error = False\n",
    "for i in range(len(data['contest_tallies'])):\n",
    "    contest_tally = data['contest_tallies'][i]\n",
    "    for j in range(len(contest_tally)):\n",
    "        shares = contest_tally[j]['shares']\n",
    "        for k in range(len(shares)):\n",
    "            v = int(shares[k]['proof']['response'])\n",
    "            if v < 0 or v >= p:\n",
    "                print(f\"v is not in the range Z_q at contest_tally {i}, contest {j}, share {k}\")\n",
    "                error = True\n",
    "if not error:\n",
    "    print(\"success\")      "
   ]
  },
  {
   "cell_type": "markdown",
   "metadata": {},
   "source": [
    "### 2nd Bullet Point - <em>\"The given values a<sub>i</sub> and b<sub>i</sub> are both in the set Z<sub>q</sub><sup>r</sup>\""
   ]
  },
  {
   "cell_type": "code",
   "execution_count": null,
   "metadata": {},
   "outputs": [],
   "source": [
    "error = False\n",
    "for i in range(len(data['contest_tallies'])):\n",
    "    contest_tally = data['contest_tallies'][i]\n",
    "    for j in range(len(contest_tally)):\n",
    "        shares = contest_tally[j]['shares']\n",
    "        for k in range(len(shares)):\n",
    "            a = int(shares[k]['proof']['commitment']['public_key'])\n",
    "            b = int(shares[k]['proof']['commitment']['ciphertext'])\n",
    "            if pow(a, q, p) != 1:\n",
    "                print(f\"a is not in Z^r_p at contest_tallies {i}, shares {j}, share{k}\")\n",
    "                error = True\n",
    "            if pow(b, q, p) != 1:\n",
    "                print(f\"b is not in Z^r_p at contest_tallies {i}, shares {j}, share{k}\")\n",
    "                error = True\n",
    "if not error:\n",
    "    print(\"success\")  "
   ]
  },
  {
   "cell_type": "markdown",
   "metadata": {},
   "source": [
    "### 4th Bullet Point - <em>\"The equations g<sup>v<sub>i</sub></sup>=a<sub>i</sub>K<sub>i</sub><sup>c<sub>i</sub></sup> mod p and A<sup>v<sub>i</sub></sup>=b<sub>i</sub>M<sub>i</sub><sup>c<sub>i</sub></sup> mod p are satisfied\"\n",
    "    \n",
    "- a: contest tallies, shares, proof, commitment, public key\n",
    "- s: contest tallies, shares"
   ]
  },
  {
   "cell_type": "markdown",
   "metadata": {},
   "source": [
    "1st Part"
   ]
  },
  {
   "cell_type": "code",
   "execution_count": 31,
   "metadata": {
    "scrolled": true
   },
   "outputs": [
    {
     "name": "stdout",
     "output_type": "stream",
     "text": [
      "success\n"
     ]
    }
   ],
   "source": [
    "error = False\n",
    "for i in range(len(data['contest_tallies'])):\n",
    "    contest_tally = data['contest_tallies'][i]\n",
    "    A = int(contest_tally[i]['encrypted_tally']['public_key'])\n",
    "    for j in range(len(contest_tally)):\n",
    "        shares = contest_tally[j]['shares']\n",
    "        for k in range(len(shares)):\n",
    "            K = int(data['trustee_public_keys'][k][0]['public_key'])\n",
    "            v = int(shares[k]['proof']['response'])\n",
    "            c = int(shares[k]['proof']['challenge'])\n",
    "            a = int(shares[k]['proof']['commitment']['public_key'])\n",
    "            s = int(shares[k]['share'])\n",
    "            left_side = pow(g, v, p)\n",
    "            right_side = (a * pow(K, c, p)) % p\n",
    "            if left_side != right_side:\n",
    "                print(f\"g^v doesn't match aK^c mod p at contest_tallies {i}, shares {j}, share {k}\")\n",
    "                error = True\n",
    "if not error:\n",
    "    print(\"success\")"
   ]
  },
  {
   "cell_type": "markdown",
   "metadata": {},
   "source": [
    "2nd Part"
   ]
  },
  {
   "cell_type": "code",
   "execution_count": 39,
   "metadata": {},
   "outputs": [
    {
     "name": "stdout",
     "output_type": "stream",
     "text": [
      "success\n"
     ]
    }
   ],
   "source": [
    "error = False\n",
    "for i in range(len(data['contest_tallies'])):\n",
    "    contest_tally = data['contest_tallies'][i]\n",
    "    for j in range(len(contest_tally)):\n",
    "        shares = contest_tally[j]['shares']\n",
    "        A = int(contest_tally[j]['encrypted_tally']['public_key'])\n",
    "        for k in range(len(shares)):\n",
    "            v = int(shares[k]['proof']['response'])\n",
    "            m = int(shares[k]['share'])\n",
    "            c = int(shares[k]['proof']['challenge'])\n",
    "            b = int(shares[k]['proof']['commitment']['ciphertext'])\n",
    "            left_side = pow(A, v, p)\n",
    "            right_side = (b * pow(m, c, p)) % p\n",
    "            if (left_side != right_side):\n",
    "                print(f\"A^v doesn't match bM^c mod p at contest_tallies {i}, selection {j}, share {k}\")\n",
    "if not error:\n",
    "    print(\"success\")"
   ]
  },
  {
   "cell_type": "markdown",
   "metadata": {},
   "source": [
    "# GreenBox 7 - Missing Trustee"
   ]
  },
  {
   "cell_type": "markdown",
   "metadata": {},
   "source": [
    "- Not Included. Our data was not applicable"
   ]
  },
  {
   "cell_type": "markdown",
   "metadata": {},
   "source": [
    "# GreenBox 8 - Missing Trustee Lagrange"
   ]
  },
  {
   "cell_type": "markdown",
   "metadata": {},
   "source": [
    "- Not Included. Our data was not applicable"
   ]
  },
  {
   "cell_type": "markdown",
   "metadata": {},
   "source": [
    "# GreenBox 9 - Tallies Verification"
   ]
  },
  {
   "cell_type": "markdown",
   "metadata": {},
   "source": [
    "### 1st Bullet Point - <em>\"B=M⋅(product of M<sub>i</sub> for n times) mod p\"\n",
    "\n",
    "- B: contest tallies, encrypted_tally, ciphertext\n",
    "- M: contest tallies, decrypted_tally"
   ]
  },
  {
   "cell_type": "code",
   "execution_count": 43,
   "metadata": {},
   "outputs": [
    {
     "name": "stdout",
     "output_type": "stream",
     "text": [
      "5\n",
      "0\n",
      "1\n",
      "2\n",
      "3\n",
      "4\n",
      "9\n",
      "0\n",
      "1\n",
      "2\n",
      "3\n",
      "4\n",
      "5\n",
      "6\n",
      "7\n",
      "8\n",
      "success\n"
     ]
    }
   ],
   "source": [
    "error = False\n",
    "m = 1\n",
    "product_m = 1\n",
    "for i in range(len(data['contest_tallies'])):\n",
    "    contest_tally = data['contest_tallies'][i]\n",
    "    for j in range(len(contest_tally)):\n",
    "        shares = contest_tally[j]['shares']\n",
    "        B = int(contest_tally[j]['encrypted_tally']['ciphertext'])\n",
    "        M = int(contest_tally[j]['decrypted_tally'])\n",
    "        m = 1\n",
    "        for k in range(len(shares)):\n",
    "            m = m * int(shares[k]['share'])\n",
    "        product_m = M * m % p\n",
    "        if product_m != B:\n",
    "            print(f\"B does not match product of m at contest_tallies {i}, shares for selection {j}, share {k}\")\n",
    "            error = True\n",
    "if not error:\n",
    "    print(\"success\")        "
   ]
  },
  {
   "cell_type": "markdown",
   "metadata": {},
   "source": [
    "### 2nd Bullet Point - <em>\"M = g<sup>t</sup> mod p\"\n",
    "    \n",
    "- t: contest tallies, cleartext\n",
    "- M: contest tallies, decrypted tally"
   ]
  },
  {
   "cell_type": "code",
   "execution_count": 2,
   "metadata": {},
   "outputs": [
    {
     "ename": "NameError",
     "evalue": "name 'g' is not defined",
     "output_type": "error",
     "traceback": [
      "\u001b[0;31m---------------------------------------------------------------------------\u001b[0m",
      "\u001b[0;31mNameError\u001b[0m                                 Traceback (most recent call last)",
      "\u001b[0;32m<ipython-input-2-05473a2acf42>\u001b[0m in \u001b[0;36m<module>\u001b[0;34m\u001b[0m\n\u001b[1;32m      5\u001b[0m         \u001b[0mt\u001b[0m \u001b[0;34m=\u001b[0m \u001b[0mint\u001b[0m\u001b[0;34m(\u001b[0m\u001b[0mcontest_tally\u001b[0m\u001b[0;34m[\u001b[0m\u001b[0mj\u001b[0m\u001b[0;34m]\u001b[0m\u001b[0;34m[\u001b[0m\u001b[0;34m'cleartext'\u001b[0m\u001b[0;34m]\u001b[0m\u001b[0;34m)\u001b[0m\u001b[0;34m\u001b[0m\u001b[0;34m\u001b[0m\u001b[0m\n\u001b[1;32m      6\u001b[0m         \u001b[0mM\u001b[0m \u001b[0;34m=\u001b[0m \u001b[0mint\u001b[0m\u001b[0;34m(\u001b[0m\u001b[0mcontest_tally\u001b[0m\u001b[0;34m[\u001b[0m\u001b[0mj\u001b[0m\u001b[0;34m]\u001b[0m\u001b[0;34m[\u001b[0m\u001b[0;34m'decrypted_tally'\u001b[0m\u001b[0;34m]\u001b[0m\u001b[0;34m)\u001b[0m\u001b[0;34m\u001b[0m\u001b[0;34m\u001b[0m\u001b[0m\n\u001b[0;32m----> 7\u001b[0;31m         \u001b[0;32mif\u001b[0m \u001b[0mM\u001b[0m \u001b[0;34m!=\u001b[0m \u001b[0mpow\u001b[0m\u001b[0;34m(\u001b[0m\u001b[0mg\u001b[0m\u001b[0;34m,\u001b[0m \u001b[0mt\u001b[0m\u001b[0;34m,\u001b[0m \u001b[0mp\u001b[0m\u001b[0;34m)\u001b[0m\u001b[0;34m:\u001b[0m\u001b[0;34m\u001b[0m\u001b[0;34m\u001b[0m\u001b[0m\n\u001b[0m\u001b[1;32m      8\u001b[0m             \u001b[0mprint\u001b[0m\u001b[0;34m(\u001b[0m\u001b[0;34mf\"M does not match g^t mod p at contest_tallies {i}, selection {j}\"\u001b[0m\u001b[0;34m)\u001b[0m\u001b[0;34m\u001b[0m\u001b[0;34m\u001b[0m\u001b[0m\n\u001b[1;32m      9\u001b[0m             \u001b[0merror\u001b[0m \u001b[0;34m=\u001b[0m \u001b[0;32mTrue\u001b[0m\u001b[0;34m\u001b[0m\u001b[0;34m\u001b[0m\u001b[0m\n",
      "\u001b[0;31mNameError\u001b[0m: name 'g' is not defined"
     ]
    }
   ],
   "source": [
    "error = False\n",
    "for i in range(len(data['contest_tallies'])):\n",
    "    contest_tally = data['contest_tallies'][i]\n",
    "    for j in range(len(contest_tally)):\n",
    "        t = int(contest_tally[j]['cleartext'])\n",
    "        M = int(contest_tally[j]['decrypted_tally'])\n",
    "        if M != pow(g, t, p):\n",
    "            print(f\"M does not match g^t mod p at contest_tallies {i}, selection {j}\")\n",
    "            error = True\n",
    "if not error:\n",
    "    print(\"success\")  "
   ]
  },
  {
   "cell_type": "markdown",
   "metadata": {},
   "source": [
    "# GreenBox 10 - Spoiled Ballots Verification"
   ]
  },
  {
   "cell_type": "markdown",
   "metadata": {},
   "source": [
    "Features Not Included:\n",
    "- 3rd Bullet Point: Hashing "
   ]
  },
  {
   "cell_type": "markdown",
   "metadata": {},
   "source": [
    "### 1st Bullet Point - <em>\"The given value v<sub>i</sub> is in the set Z<sub>q</sub>\""
   ]
  },
  {
   "cell_type": "code",
   "execution_count": 48,
   "metadata": {},
   "outputs": [
    {
     "name": "stdout",
     "output_type": "stream",
     "text": [
      "success\n"
     ]
    }
   ],
   "source": [
    "error = False\n",
    "for i in range(len(data['spoiled_ballots'])):\n",
    "    spoiled_ballot = data['spoiled_ballots'][i]['contests']\n",
    "    for j in range(len(spoiled_ballot)):\n",
    "        contests = spoiled_ballot[j]\n",
    "        for k in range(len(contests)):\n",
    "            shares = contests[k]['shares']\n",
    "            for l in range(len(shares)):\n",
    "                v = int(shares[l]['proof']['response'])\n",
    "            if v < 0 or v >= p:\n",
    "                print(f\"v is not in Z_q at spoiled_ballots {i}, contest {j}, shares for selection {k}, share {l}\")\n",
    "                error = True\n",
    "if not error:\n",
    "    print(\"success\") "
   ]
  },
  {
   "cell_type": "markdown",
   "metadata": {},
   "source": [
    "### 2nd Bullet Point - <em>\"The given values a<sub>i</sub> and b<sub>i</sub> are both in the set Z<sub>q</sub><sup>r</sup>\""
   ]
  },
  {
   "cell_type": "code",
   "execution_count": 49,
   "metadata": {},
   "outputs": [
    {
     "name": "stdout",
     "output_type": "stream",
     "text": [
      "success\n"
     ]
    }
   ],
   "source": [
    "error = False\n",
    "for i in range(len(data['spoiled_ballots'])):\n",
    "    spoiled_ballot = data['spoiled_ballots'][i]['contests']\n",
    "    for j in range(len(spoiled_ballot)):\n",
    "        contests = spoiled_ballot[j]\n",
    "        for k in range(len(contests)):\n",
    "            shares = contests[k]['shares']\n",
    "            for l in range(len(shares)):\n",
    "                a = int(shares[l]['proof']['commitment']['public_key'])\n",
    "                b = int(shares[l]['proof']['commitment']['ciphertext'])\n",
    "                if pow(a, q, p) != 1:\n",
    "                    print(f\"a is not in Z^r_p spoiled_ballots {i}, contest {j}, shares for selection {k}, share {l}\")\n",
    "                    error = True\n",
    "                if pow(b, q, p) != 1:\n",
    "                    print(f\"b is not in Z^r_p spoiled_ballots {i}, contest {j}, shares for selection {k}, share {l}\")\n",
    "                    error = True\n",
    "if not error:\n",
    "    print(\"success\") "
   ]
  },
  {
   "cell_type": "markdown",
   "metadata": {},
   "source": [
    "### 4th Bullet Point - <em>\"The equations g<sup>v<sub>i</sub></sup>=a<sub>i</sub>K<sub>i</sub><sup>c<sub>i</sub></sup> mod p and A<sup>v<sub>i</sub></sup>=b<sub>i</sub>M<sub>i</sub><sup>c<sub>i</sub></sup> mod p are satisfied\""
   ]
  },
  {
   "cell_type": "markdown",
   "metadata": {},
   "source": [
    "Part 1"
   ]
  },
  {
   "cell_type": "code",
   "execution_count": 50,
   "metadata": {},
   "outputs": [
    {
     "name": "stdout",
     "output_type": "stream",
     "text": [
      "success\n"
     ]
    }
   ],
   "source": [
    "error = False\n",
    "for i in range(len(data['spoiled_ballots'])):\n",
    "    spoiled_ballot = data['spoiled_ballots'][i]['contests']\n",
    "    for j in range(len(spoiled_ballot)):\n",
    "        contests = spoiled_ballot[j]\n",
    "        for k in range(len(contests)):\n",
    "            shares = contests[k]['shares']\n",
    "            for l in range(len(shares)):\n",
    "                K = int(data['trustee_public_keys'][l][0]['public_key'])\n",
    "                v = int(shares[l]['proof']['response'])\n",
    "                c = int(shares[l]['proof']['challenge'])\n",
    "                a = int(shares[l]['proof']['commitment']['public_key'])\n",
    "                s = int(shares[l]['share'])\n",
    "                left_side = pow(g, v, p)\n",
    "                right_side = (a * pow(K, c, p)) % p\n",
    "                if left_side != right_side:\n",
    "                    print(f\"g^v does not match a*K^c mod p at spoiled_ballots {i}, contest {j}, shares for selection {k}, share {l}\")\n",
    "                    error = True\n",
    "if not error:\n",
    "    print(\"success\")"
   ]
  },
  {
   "cell_type": "markdown",
   "metadata": {},
   "source": [
    "Part 2"
   ]
  },
  {
   "cell_type": "code",
   "execution_count": 51,
   "metadata": {},
   "outputs": [
    {
     "name": "stdout",
     "output_type": "stream",
     "text": [
      "success\n"
     ]
    }
   ],
   "source": [
    "error = False\n",
    "for i in range(len(data['spoiled_ballots'])):\n",
    "    spoiled_ballot = data['spoiled_ballots'][i]['contests']\n",
    "    for j in range(len(spoiled_ballot)):\n",
    "        contests = spoiled_ballot[j]\n",
    "        for k in range(len(contests)):\n",
    "            A = int(contests[k]['encrypted_message']['public_key'])\n",
    "            shares = contests[k]['shares']\n",
    "            for l in range(len(shares)):\n",
    "                v = int(shares[l]['proof']['response'])\n",
    "                m = int(shares[l]['share'])\n",
    "                c = int(shares[l]['proof']['challenge'])\n",
    "                b = int(shares[l]['proof']['commitment']['ciphertext'])\n",
    "                left_side = pow(A, v, p)\n",
    "                right_side = (b * pow(m, c, p)) % p\n",
    "                if (left_side != right_side):\n",
    "                    print(f\"A^v does not match b*M^c mod p at spoiled_ballots {i}, contest {j}, shares for selection {k}, share {l}\")\n",
    "                    error = True\n",
    "if not error:\n",
    "    print(\"success\")"
   ]
  }
 ],
 "metadata": {
  "kernelspec": {
   "display_name": "Python 3",
   "language": "python",
   "name": "python3"
  },
  "language_info": {
   "codemirror_mode": {
    "name": "ipython",
    "version": 3
   },
   "file_extension": ".py",
   "mimetype": "text/x-python",
   "name": "python",
   "nbconvert_exporter": "python",
   "pygments_lexer": "ipython3",
   "version": "3.7.3"
  }
 },
 "nbformat": 4,
 "nbformat_minor": 2
}
