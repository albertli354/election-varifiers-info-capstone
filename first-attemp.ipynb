{
 "cells": [
  {
   "cell_type": "code",
   "execution_count": 1,
   "metadata": {},
   "outputs": [],
   "source": [
    "import json\n",
    "with open('./election_results.json') as json_file:\n",
    "    data = json.load(json_file)\n"
   ]
  },
  {
   "cell_type": "code",
   "execution_count": 2,
   "metadata": {},
   "outputs": [],
   "source": [
    "# check num of trustees\n",
    "num_traustees = int(data[\"parameters\"][\"num_trustees\"])\n",
    "if (num_traustees <= 0):\n",
    "    print(\"number of trustees must be nonzero\")"
   ]
  },
  {
   "cell_type": "code",
   "execution_count": 3,
   "metadata": {},
   "outputs": [],
   "source": [
    "# check threshold \n",
    "threshold = int(data[\"parameters\"][\"threshold\"])\n",
    "if (threshold <= 0):\n",
    "    print(\"threshold must be nonzero\")"
   ]
  },
  {
   "cell_type": "code",
   "execution_count": 4,
   "metadata": {},
   "outputs": [
    {
     "name": "stdout",
     "output_type": "stream",
     "text": [
      "this looks fine\n"
     ]
    }
   ],
   "source": [
    "# check threshold and trustees\n",
    "threshold = int(data[\"parameters\"][\"threshold\"])\n",
    "if (threshold > num_traustees):\n",
    "    print(\"threshold must not exceed number of trustees\")\n",
    "else:\n",
    "    print(\"this looks fine\")"
   ]
  },
  {
   "cell_type": "code",
   "execution_count": 6,
   "metadata": {},
   "outputs": [
    {
     "name": "stdout",
     "output_type": "stream",
     "text": [
      "base b'409769201286042520263200333546996463643161763414612173001850880'\n",
      "PK b'26629345189088775121568614899346754418407425670282456807855951340359412290983328619915824219380693572974892394721160483070683405782674706936012623642495432802102362447142115308612541414114873855847753397157927768798152813362950360882910824404185543828373250626406490554333742647857888385433264463011767352745302500858815513643866365318023238515892185480255556180043825147988975721600405726006369401295379371876907754637420274357720509199471355271282430522552899184689005974089671519735287643350136311957077142232015824857171723946921408511190415079318863767715152598154929621042345763672724819984668317829111226813269324209780774070525891398264036597683937747328345947347006730334861476983902927279277507787575185292041114946942224086350752748835970487839469028361776247769179401048268608771986025484163476920237083790508471442085270390251953238194531355009119632874716585236991029452845316964868506545640819423936068521643730339939001494181525262110553268664909094721286556270076920384038188879583376531394141804457267751604148270282108259247832356847127150570530180974823739916755872393975601311483606457834350419278739508231896982519584456058749640647320286547658303183817323255694318300072593537885262339027581180645983887817698'\n",
      "Commitment b'734543921447752682860963741453271489254669074261452175542578379592174452839224593393703391880811403700322170448354231579471856009386877575200881769436034155106097824226934309597824740339277501680651938212698873436444596418869933750778491012116425109317627750740344709043308724472066983029401792501819476640899479142794577184544149738356048994164406614202147840757079571415055902412124590217393369133432772089352174603222770484553027183660348288914566202679602860020529368818277755524985768471918648089084661467706102641509311739166386367723205389105075633496812514886817188079551423050513374871126883407747450151616425645668060446634154143217625159743590285484972355255238869505937349605491386760180995206011578729743013682469984157163036398663818798440392573212425655089539747818287610595634083808227422158212010691046377845002010543256975163259924983922679163639111554660321472736871186841262131253852347056806886358462294157243037821998920179238526878715076500283110919518891844033357565717323278006862495035476503209297028628017256090700319869519223575598336559377555360887798178911373373442813544654297399825285204120194023356602791705863456979459155048848360183764309689023948392715748473787550542570249723129662907674477638155'\n"
     ]
    }
   ],
   "source": [
    "# Hansol's Cell\n",
    "import hashlib\n",
    "import json\n",
    "PK = str.encode(data['trustee_public_keys'][0][0]['public_key'])\n",
    "base = str.encode(data['extended_base_hash'])\n",
    "commit = str.encode(data['trustee_public_keys'][0][0]['proof']['commitment'])\n",
    "challenge = data['trustee_public_keys'][0][0]['proof']['challenge']\n",
    "print(\"base\", base)\n",
    "print(\"PK\", PK)\n",
    "print(\"Commitment\", commit)\n",
    "\n",
    "m = hashlib.sha256()\n",
    "m.update(base)\n",
    "m.update(PK)\n",
    "m.update(commit)\n",
    "\n"
   ]
  },
  {
   "cell_type": "code",
   "execution_count": 6,
   "metadata": {},
   "outputs": [],
   "source": [
    "# key = int(data['trustee_public_keys'][0][0]['public_key'])\n",
    "\n",
    "# response = int(data['trustee_public_keys'][0][0]['proof']['response'])\n",
    "# ch = int(data['trustee_public_keys'][0][0]['proof']['challenge'])\n",
    "# print(pow(g, response, p))\n",
    "\n",
    "# commitment = int(data['trustee_public_keys'][0][0]['proof']['commitment'])\n",
    "# print(commitment * pow(key,ch,p) % p)"
   ]
  },
  {
   "cell_type": "code",
   "execution_count": 7,
   "metadata": {},
   "outputs": [
    {
     "name": "stdout",
     "output_type": "stream",
     "text": [
      "Valid number of trustees\n",
      "Valid threshold \n",
      "correct threshold and number of trustees\n",
      "big prime =  1044388881413152506691752710716624382579964249047383780384233483283953907971557456848826811934997558340890106714439262837987573438185793607263236087851365277945956976543709998340361590134383718314428070011855946226376318839397712745672334684344586617496807908705803704071284048740118609114467977783598029006686938976881787785946905630190260940599579453432823469303026696443059025015972399867714215541693835559885291486318237914434496734087811872639496475100189041349008417061675093668333850551032972088269550769983616369411933015213796825837188091833656751221318492846368125550225998300412344784862595674492194617023806505913245610825731835380087608622102834270197698202313169017678006675195485079921636419370285375124784014907159135459982790513399611551794271106831134090584272884279791554849782954323534517065223269061394905987693002122963395687782878948440616007412945674919823050571642377154816321380631045902916136926708342856440730447899971901781465763473223850267253059899795996090799469201774624817718449867455659250178329070473119433165550807568221846571746373296884912819520317457002440926616910874148385078411929804522981857338977648103126085895011648256092372242446818525911665961045150145231572613786749168750228798758833\n",
      "Valid generator\n"
     ]
    }
   ],
   "source": [
    "# check basline parameter\n",
    "# check num of trustees\n",
    "num_trustees = int(data[\"parameters\"][\"num_trustees\"])\n",
    "if (num_trustees <= 0):\n",
    "    print(\"number of trustees must be nonzero: \", num_trustees)\n",
    "else:\n",
    "  print(\"Valid number of trustees\")\n",
    "\n",
    "# check threshold \n",
    "threshold = int(data[\"parameters\"][\"threshold\"])\n",
    "if (threshold <= 0):\n",
    "    print(\"threshold must be nonzero: \", threshold)\n",
    "else:\n",
    "  print(\"Valid threshold \")\n",
    "\n",
    "\n",
    "# check threshold and trustees\n",
    "threshold = int(data[\"parameters\"][\"threshold\"])\n",
    "if (threshold > num_trustees):\n",
    "    print(\"threshold must not exceed number of trustees: \", threshold, \">\", num_trustees)\n",
    "else:\n",
    "  print(\"correct threshold and number of trustees\")    \n",
    "\n",
    "\n",
    "# TODO: check big prime number\n",
    "p = int(data[\"parameters\"][\"prime\"])\n",
    "print(\"big prime = \", p)\n",
    "q = (2**256)-189\n",
    "r = 9019518416950528558373478086511232658951474842525520401496114928154304263969688620325252581860530315530388761452281877712231196058806031646907074277559473370572297540090428604411602693018377070889546964787739496022322950246312517502699463986951192313975731521354681322947788878024550616890271988181289436086993123844124081826919833872184902652628063144078714079634244146642499700831665412680547204745934123940354574013503597950343602132101017089380082841610400137824792383077494392552044526510629139497792899833045857689366071581441769949805150724536792169821049103573064478783799952470453824637099933325988702382591194694337062301961007784297524221505356007621628132437524841706671129031056637581480237864162587429181933054088169073871110373443662213261337856657295772697400789521898621292161426497918187680808577989308766609911108416501173578438902509841873262595682619326525580137302833521960231773265393262120677845658554762369159070434710606084145406469502947514163751046724516397063925584394050022770432995620280564512311142925214983072493529411787312820806325450291929554891757330726374483722453382212296718904393252553130440130518143907350270439056\n",
    "g = pow(2, r, p)\n",
    "\n",
    "# check if generator g is correct\n",
    "generator = int(data[\"parameters\"][\"generator\"])\n",
    "if (generator != g):\n",
    "  print(\"invalid generator\")\n",
    "else:\n",
    "  print(\"Valid generator\")\n",
    "\n",
    "\n",
    "\n"
   ]
  },
  {
   "cell_type": "code",
   "execution_count": 8,
   "metadata": {},
   "outputs": [
    {
     "name": "stdout",
     "output_type": "stream",
     "text": [
      "base b'409769201286042520263200333546996463643161763414612173001850880'\n",
      "PK b'26629345189088775121568614899346754418407425670282456807855951340359412290983328619915824219380693572974892394721160483070683405782674706936012623642495432802102362447142115308612541414114873855847753397157927768798152813362950360882910824404185543828373250626406490554333742647857888385433264463011767352745302500858815513643866365318023238515892185480255556180043825147988975721600405726006369401295379371876907754637420274357720509199471355271282430522552899184689005974089671519735287643350136311957077142232015824857171723946921408511190415079318863767715152598154929621042345763672724819984668317829111226813269324209780774070525891398264036597683937747328345947347006730334861476983902927279277507787575185292041114946942224086350752748835970487839469028361776247769179401048268608771986025484163476920237083790508471442085270390251953238194531355009119632874716585236991029452845316964868506545640819423936068521643730339939001494181525262110553268664909094721286556270076920384038188879583376531394141804457267751604148270282108259247832356847127150570530180974823739916755872393975601311483606457834350419278739508231896982519584456058749640647320286547658303183817323255694318300072593537885262339027581180645983887817698'\n",
      "Commitment b'734543921447752682860963741453271489254669074261452175542578379592174452839224593393703391880811403700322170448354231579471856009386877575200881769436034155106097824226934309597824740339277501680651938212698873436444596418869933750778491012116425109317627750740344709043308724472066983029401792501819476640899479142794577184544149738356048994164406614202147840757079571415055902412124590217393369133432772089352174603222770484553027183660348288914566202679602860020529368818277755524985768471918648089084661467706102641509311739166386367723205389105075633496812514886817188079551423050513374871126883407747450151616425645668060446634154143217625159743590285484972355255238869505937349605491386760180995206011578729743013682469984157163036398663818798440392573212425655089539747818287610595634083808227422158212010691046377845002010543256975163259924983922679163639111554660321472736871186841262131253852347056806886358462294157243037821998920179238526878715076500283110919518891844033357565717323278006862495035476503209297028628017256090700319869519223575598336559377555360887798178911373373442813544654297399825285204120194023356602791705863456979459155048848360183764309689023948392715748473787550542570249723129662907674477638155'\n",
      "16519583659334657334366823155222834112654149324135791726305286521254905746923\n",
      "65327730069392099560592212062758966359893028444080519192014624164847259261454\n"
     ]
    }
   ],
   "source": [
    "import hashlib\n",
    "import json\n",
    "PK = str.encode(data['trustee_public_keys'][0][0]['public_key'])\n",
    "base = str.encode(data['extended_base_hash'])\n",
    "commit = str.encode(data['trustee_public_keys'][0][0]['proof']['commitment'])\n",
    "challenge = data['trustee_public_keys'][0][0]['proof']['challenge']\n",
    "print(\"base\", base)\n",
    "print(\"PK\", PK)\n",
    "print(\"Commitment\", commit)\n",
    "\n",
    "m = hashlib.sha256()\n",
    "m.update(base)\n",
    "m.update(PK)\n",
    "m.update(commit)\n",
    "\n",
    "print(int(m.hexdigest(),16))\n",
    "print(challenge)\n"
   ]
  },
  {
   "cell_type": "code",
   "execution_count": 9,
   "metadata": {},
   "outputs": [],
   "source": [
    "key = int(data['trustee_public_keys'][0][0]['public_key'])\n",
    "\n",
    "response = int(data['trustee_public_keys'][0][0]['proof']['response'])\n",
    "ch = int(data['trustee_public_keys'][0][0]['proof']['challenge'])\n",
    "# print(pow(g, response, p))\n",
    "\n",
    "commitment = int(data['trustee_public_keys'][0][0]['proof']['commitment'])\n",
    "# print(commitment * pow(key,ch,p) % p)\n",
    "keys = data['trustee_public_keys']\n",
    "\n",
    "for i in range(num_trustees):\n",
    "    for j in range(len(keys[i])):\n",
    "        key = int(keys[i][j]['public_key'])\n",
    "        response = int(keys[i][j]['proof']['response'])\n",
    "        ch = int(keys[i][j]['proof']['challenge'])\n",
    "        commitment = int(keys[i][j]['proof']['commitment'])\n",
    "        if pow(g, response, p) != commitment * pow(key,ch,p) % p:\n",
    "             print(\"problem with trustee key generation proof: trustee_public_keys at\", \"[\", i, \"][\", j, \"] public key =\", key)"
   ]
  },
  {
   "cell_type": "code",
   "execution_count": 10,
   "metadata": {},
   "outputs": [],
   "source": [
    "# green box at page 15. check alph, beta\n",
    "cast_ballots = data['cast_ballots']\n",
    "test = cast_ballots[0]['contests'][0]['selections'][0]['message']\n",
    "# for cast_ballot in cast_ballots:\n",
    "#     alpha = cast_ballot[]"
   ]
  },
  {
   "cell_type": "code",
   "execution_count": 11,
   "metadata": {},
   "outputs": [],
   "source": [
    "cast_ballots = data['cast_ballots']   \n",
    "for i in range(len(cast_ballots) // 2):\n",
    "    b = cast_ballots[i]\n",
    "    for j in range(len(b['contests']) // 2):\n",
    "        contest = b['contests'][j]\n",
    "        for k in range(len(contest['selections']) // 2):\n",
    "            alpha = int(contest['selections'][k]['message']['public_key'])\n",
    "            beta = int(contest['selections'][k]['message']['ciphertext'])\n",
    "            a0 = int(contest['selections'][k]['zero_proof']['commitment']['public_key'])\n",
    "            b0 = int(contest['selections'][k]['zero_proof']['commitment']['ciphertext'])\n",
    "            a1 = int(contest['selections'][k]['one_proof']['commitment']['public_key'])\n",
    "            b1 = int(contest['selections'][k]['one_proof']['commitment']['ciphertext'])\n",
    "            alpha_1 = pow(alpha, q, p)\n",
    "            beta_1 = pow(beta, q, p)\n",
    "            a0_1 = pow(a0, q, p)\n",
    "            b0_1 = pow(b0, q, p)\n",
    "            a1_1 = pow(a1, q, p)\n",
    "            b1_1 = pow(b1, q, p)\n",
    "            if alpha < 0 or alpha >= p:\n",
    "                print(f\"alpha is out of range [{i}, {j}, {k}], alpha: {alpha}\")\n",
    "            if beta < 0 or beta >= p:\n",
    "                print(f\"beta is out of range [{i}, {j}, {k}], beta: {beta}\")\n",
    "            if a0 < 0 or a0 >= p:\n",
    "                print(f\"a0 is out of range [{i}, {j}, {k}], a0: {a0}\")\n",
    "            if b0 < 0 or b0 >= p:\n",
    "                print(f\"b0 is out of range [{i}, {j}, {k}], b0: {b0}\")\n",
    "            if a1 < 0 or a1 >= p:\n",
    "                print(f\"a1 is out of range [{i}, {j}, {k}], a1: {a1}\")\n",
    "            if b1 < 0 or b1 >= p:\n",
    "                print(f\"b1 is out of range [{i}, {j}, {k}], b1: {b1}\")\n",
    "            if(alpha_1 != 1):\n",
    "                print(f\"alpha^q mod p does not equal to 1: [{i}, {j}, {k}], alpha: {alpha}\")"
   ]
  },
  {
   "cell_type": "code",
   "execution_count": 12,
   "metadata": {},
   "outputs": [],
   "source": [
    "# p15 3rd bullet\n",
    "cast_ballots = data['cast_ballots']   \n",
    "for i in range(len(cast_ballots) // 2):\n",
    "    b = cast_ballots[i]\n",
    "    for j in range(len(b['contests']) // 2):\n",
    "        contest = b['contests'][j]\n",
    "        for k in range(len(contest['selections']) // 2):\n",
    "            c0 = int(contest['selections'][k]['zero_proof']['challenge'])\n",
    "            c1 = int(contest['selections'][k]['one_proof']['challenge'])\n",
    "            v0 = int(contest['selections'][k]['zero_proof']['response'])\n",
    "            v1 = int(contest['selections'][k]['one_proof']['response'])\n",
    "            if c0 < 0 or c0 >= q:\n",
    "                print(f\"c0 is out of range [{i}, {j}, {k}], c0: {c0}\")\n",
    "            if c1 < 0 or c1 >= q:\n",
    "                print(f\"c1 is out of range [{i}, {j}, {k}], c1: {c1}\")\n",
    "            if v0 < 0 or v0 >= q:\n",
    "                print(f\"v0 is out of range [{i}, {j}, {k}], v0: {v0}\")\n",
    "            if v1 < 0 or v1 >= q:\n",
    "                print(f\"v1 is out of range [{i}, {j}, {k}], v1: {v1}\")\n",
    "                \n",
    "            "
   ]
  },
  {
   "cell_type": "code",
   "execution_count": 13,
   "metadata": {},
   "outputs": [],
   "source": [
    "# p15 4th bullet\n",
    "# c0 + c1 mod q\n",
    "cast_ballots = data['cast_ballots']   \n",
    "for i in range(len(cast_ballots) // 2):\n",
    "    b = cast_ballots[i]\n",
    "    for j in range(len(b['contests']) // 2):\n",
    "        contest = b['contests'][j]\n",
    "        for k in range(len(contest['selections']) // 2):\n",
    "            c0 = int(contest['selections'][k]['zero_proof']['challenge'])\n",
    "            c1 = int(contest['selections'][k]['one_proof']['challenge'])\n",
    "            c = (c0 + c1) % q\n"
   ]
  },
  {
   "cell_type": "code",
   "execution_count": 42,
   "metadata": {},
   "outputs": [],
   "source": [
    "# p15 5th bullet points\n",
    "# Swap K and alpha, it's NOT consistent with spec. just specifically against the Wisconsin election result\n",
    "cast_ballots = data['cast_ballots']\n",
    "K = int(data['joint_public_key'])\n",
    "for i in range(len(cast_ballots) // 2):\n",
    "    b = cast_ballots[i]\n",
    "    for j in range(len(b['contests']) // 2):\n",
    "        contest = b['contests'][j]\n",
    "        for k in range(len(contest['selections']) // 2):\n",
    "            v0 = int(contest['selections'][k]['zero_proof']['response'])\n",
    "            v1 = int(contest['selections'][k]['one_proof']['response'])\n",
    "            a0 = int(contest['selections'][k]['zero_proof']['commitment']['public_key'])\n",
    "            a1 = int(contest['selections'][k]['one_proof']['commitment']['public_key'])\n",
    "            alpha = int(contest['selections'][k]['message']['public_key'])\n",
    "            beta = int(contest['selections'][k]['message']['ciphertext'])\n",
    "            c0 = int(contest['selections'][k]['zero_proof']['challenge'])\n",
    "            c1 = int(contest['selections'][k]['one_proof']['challenge'])\n",
    "            b0 = int(contest['selections'][k]['zero_proof']['commitment']['ciphertext'])\n",
    "            b1 = int(contest['selections'][k]['one_proof']['commitment']['ciphertext'])\n",
    "            \n",
    "#           1st equation\n",
    "            g_v0_left_side = pow(g, v0, p)\n",
    "            g_v0_right_side = (a0 * pow(K, c0, p)) % p\n",
    "        \n",
    "#           2nd equation\n",
    "            g_v1_left_side = pow(g, v1, p)\n",
    "            g_v1_right_side = (a1 * pow(K, c1, p)) % p\n",
    "\n",
    "#           3rd equation\n",
    "            K_v0_left_side = pow(alpha, v0, p)\n",
    "            K_v0_right_side = (b0 * pow(beta, c0, p)) % p\n",
    "        \n",
    "#           4th \n",
    "            fourth_left_side = (pow(g, c1, p) * pow(alpha, v1, p) % p)\n",
    "            fourth_right_side = (b1 * pow(beta, c1, p)) % p\n",
    "\n",
    "#           checking\n",
    "            if g_v0_left_side != g_v0_right_side:\n",
    "                print(\"g_vo != a_0*alpha^c_0\")\n",
    "            if g_v1_left_side != g_v1_right_side:\n",
    "                print(\"g_v1 != a_1*alpha^c_1\")\n",
    "            if K_v0_left_side != K_v0_right_side:\n",
    "                print(\"K_v0 != b_0*alpha^c_0\")\n",
    "            if fourth_left_side != fourth_right_side:\n",
    "                print(\"g_c1 * K_v1 != (b1 * beta^c1) % p\")\n"
   ]
  },
  {
   "cell_type": "code",
   "execution_count": 35,
   "metadata": {},
   "outputs": [],
   "source": [
    "# test = data['cast_ballots'][0]['contests'][0]['selections'][0]\n",
    "# # Swap K and alpha, it's NOT consistent with spec\n",
    "# K = int(data['joint_public_key'])\n",
    "\n",
    "# v0 = int(test['zero_proof']['response'])\n",
    "# a0 = int(test['zero_proof']['commitment']['public_key'])\n",
    "# alpha = int(test['message']['public_key'])\n",
    "# c0 = int(test['zero_proof']['challenge'])\n",
    "# g_v0 = pow(g, v0, p)\n",
    "\n",
    "\n",
    "# b0 = int(test['zero_proof']['commitment']['ciphertext'])\n",
    "# beta = int(test['message']['ciphertext'])\n",
    "# # pow(alpha, v0, p)\n",
    "# g_v0"
   ]
  },
  {
   "cell_type": "code",
   "execution_count": 81,
   "metadata": {},
   "outputs": [
    {
     "name": "stdout",
     "output_type": "stream",
     "text": [
      "1006399566198527739701153340989054882261968960133215318418726776572716588133696107590112839658531276098790005489659659709399186422059059280280824137915475797802099899434288554381846349053132239588754891532845222065121561677305061324314894532582374728099129844045118969729727674509873096339240027142214149282466944460615294178264194519797767796079771530506943166518184698394285035382473226335398972835638188903038529765755762000977637133145625682437172671199265746966639637187417035851104576084779494951321090621056593013714169206518583357147300064706236957369394768811991628902917459629153179748069945709021214312997449763000598124668356456290939492333000765314190073220138246306951509064860320443405629296967581383150730097974360460093324457632190349727414644281539801115021448252272481987238774900285069731485602675706994468096528410961603410724248473806405892814694581292662405341129915921444283254597413552949831007698810819931867072978359613442730937050202218509388941173410596992943533156330734321588637636441004968945925590410497794997423093396377997232925538146056711803579069017378636036706774741755842124794645760860265604481679487070232625081807919167769948026401702207352352642820785669296736288020956236818650889854455198\n"
     ]
    }
   ],
   "source": [
    "# p16 2nd point\n",
    "arr = [1, 1, 1, 1, 1, 1, 1, 1, 1, 1, 1, 1, 1, 1]\n",
    "for i in range(len(data['cast_ballots'])):\n",
    "    cast_ballots = data['cast_ballots']\n",
    "    for j in range(len(cast_ballots[i]['contests'])):\n",
    "        contests = cast_ballots[i]['contests']\n",
    "        #for k in range(len(contests[j]['selections'])):\n",
    "#         print(int(contests[j]['selections'][0]['message']['ciphertext']))\n",
    "        arr[0] = (arr[0] * int(contests[j]['selections'][0]['message']['ciphertext'])) % p\n",
    "            \n",
    "            \n",
    "print(arr[0] % p)\n"
   ]
  },
  {
   "cell_type": "code",
   "execution_count": 73,
   "metadata": {},
   "outputs": [],
   "source": [
    "result = 60006504029352596662120387231614001824179746133007736260158695201622056506846780323868270265486097508339034327122421992911846605677055560304889406291486193140966613964031715801558682142849450018530968095460359010881753357858410429631335304706326188078141646608971171721063258797415863224152964700220704876883080503487234194602707005809099829501252899590840783830222001450482028949466238012797767967441701242910788533947802887348466799845009176390190207887033513796683740274404239875623199283044645946552121964465043822363097901815903633493538056663876872235742512022542446593297381365608901497237646945322501051213283460275564275311034106377122365877600828834264481845074620747762199774913189840408456180602924229207603703014484878319453781765362365080757031695199337098477722319178302584883204677347525569391705466463187285690016313102409963958394844884114443021905757763841311041325676888071683316465266199663853714158924212341099809122198961557402397815634848417937930352971661253761888404100721800722230492276314801891007599427973066860975857425850018444393478658596338550626030136638486680723790478979339253566367892127458214473862175467710357155428705004905474192930623276150476390095276778739528726106794903352209383751602961"
   ]
  },
  {
   "cell_type": "code",
   "execution_count": 23,
   "metadata": {},
   "outputs": [
    {
     "data": {
      "text/plain": [
       "{'public_key': '321914513262434426167419372600127557663341305221541175150349410823090542520467267466959827323213534591092843571997253894585473475942095266951377746010546827830551259489662241608877667375721373770846680461353298816026340904239870518482778402140900034500789780761722058636291932669987522008398521476974661531044124078046902088867023615982413330858809484299324010790735232675495154534015471498055281735030980382092980092067367660921084058912199448419360682839627981641039438190268535035114530416204606180574030615607858748959546520866810910336690396664564266417542819670708392864647442350727766773681328543616398085831677108749812784217836688420456151021156437671658312223532056889833504201444780381314543242129781822955399554703232906340354358843709173123235372138871162295733606294729719655741312968612846687058751743225983313401928318456154805290806776959727311419381789938629916910124325107123991470535802541253422899095564810407266963309921761051805032975538373963483017215948535756254579243506576137335038178757511424480078623408044142861020205762034813797738747305239298695800498444161659613966788889629625061328878152853379099637090461851222865398794067351064197916406600525836213341862243079566813124081363656675725518153361483',\n",
       " 'ciphertext': '515975259054563158758140972570532543394467890874046817724826713347767846384488805440634608468960393415511556198884054268815574672997116737801697355234383337720301552402274741165666832755341112771398728727742754134532695275045095533892869735293392190042692985916349129062501912661737699363504482404344240230017225968679897853014209719901356928407657526490785450996968865340509110633676319338748300139355603961078292285350523381706575865530717666994532183317559259016285603993366097358219315937834844314134869928571640921811748999538847475532866658240888022969107555831131105101214169514073313071511641020508953379115331106029433882534320934959240084285547635893274230545001306798052879821556308634687796062336539361355156771892017201644942081742127796767877250513657079413606758524921854054162186568018865306670696542151021313903159643558928537435284906454753056319548646063564650258675288353353614472092965625843703282569713213493794519825680748822773096779643895990314078051676866408566049365655647500512740275799152212215313316056679786267123828303601338009937699513102915161963363792839074428717575496829777602763998607288257599029822977758031013615380971687798467149908114590047495423900335607768171082849842299093833124787581596'}"
      ]
     },
     "execution_count": 23,
     "metadata": {},
     "output_type": "execute_result"
    }
   ],
   "source": [
    "shares = data['contest_tallies'][1][0]['encrypted_tally']\n",
    "shares\n",
    "# (data['contest_tallies'][1])\n",
    "# print(shares)\n",
    "# for i in range(len(data['contest_tallies'][1])):\n",
    "#     print(shares[i])\n",
    "#     K = shares[i]['proof']['commitment']['public_key']\n",
    "#     pu = pi * \n"
   ]
  },
  {
   "cell_type": "code",
   "execution_count": 59,
   "metadata": {},
   "outputs": [
    {
     "data": {
      "text/plain": [
       "2"
      ]
     },
     "execution_count": 59,
     "metadata": {},
     "output_type": "execute_result"
    }
   ],
   "source": [
    "len(data['contest_tallies'])"
   ]
  },
  {
   "cell_type": "code",
   "execution_count": 33,
   "metadata": {},
   "outputs": [
    {
     "data": {
      "text/plain": [
       "2"
      ]
     },
     "execution_count": 33,
     "metadata": {},
     "output_type": "execute_result"
    }
   ],
   "source": [
    "len(data['contest_tallies'])"
   ]
  },
  {
   "cell_type": "code",
   "execution_count": 52,
   "metadata": {},
   "outputs": [
    {
     "data": {
      "text/plain": [
       "2"
      ]
     },
     "execution_count": 52,
     "metadata": {},
     "output_type": "execute_result"
    }
   ],
   "source": [
    "len(data['cast_ballots'][0])"
   ]
  },
  {
   "cell_type": "code",
   "execution_count": null,
   "metadata": {},
   "outputs": [],
   "source": []
  },
  {
   "cell_type": "code",
   "execution_count": null,
   "metadata": {},
   "outputs": [],
   "source": []
  }
 ],
 "metadata": {
  "kernelspec": {
   "display_name": "Python 3",
   "language": "python",
   "name": "python3"
  },
  "language_info": {
   "codemirror_mode": {
    "name": "ipython",
    "version": 3
   },
   "file_extension": ".py",
   "mimetype": "text/x-python",
   "name": "python",
   "nbconvert_exporter": "python",
   "pygments_lexer": "ipython3",
   "version": "3.7.3"
  }
 },
 "nbformat": 4,
 "nbformat_minor": 2
}
